{
 "cells": [
  {
   "cell_type": "code",
   "execution_count": 1,
   "id": "d1c9c72d",
   "metadata": {},
   "outputs": [],
   "source": [
    "import numpy as np\n",
    "import pandas as pd\n",
    "from mlxtend.preprocessing import TransactionEncoder\n",
    "from mlxtend.frequent_patterns import apriori, fpmax, fpgrowth\n",
    "from mlxtend.frequent_patterns import association_rules\n",
    "import matplotlib.pyplot as plt\n",
    "import seaborn as sns\n",
    "import warnings\n",
    "warnings.filterwarnings(\"ignore\")"
   ]
  },
  {
   "cell_type": "code",
   "execution_count": 2,
   "id": "60994ae4",
   "metadata": {},
   "outputs": [],
   "source": [
    "import glob\n",
    "import cv2\n",
    "import imageio.v3 as iio\n",
    "import random\n",
    "import tensorflow as tf\n",
    "from tensorflow.keras import datasets\n",
    "from tensorflow.keras.models import Sequential\n",
    "from tensorflow.keras import layers\n",
    "class CNN:\n",
    "    def __init__(self,path):\n",
    "        self.path=path\n",
    "    def list_filenames(self):\n",
    "        files=glob.glob(f'{self.path}/*/*')\n",
    "        return files\n",
    "    def array_hist(self,files):\n",
    "        img_array=[iio.imread(uri=i, mode=\"L\") for i in files]\n",
    "        class_n=[str(i).split('/')[-2].split('-')[1] for i in files]\n",
    "        length = len(class_n)\n",
    "        shuffled_indices = random.sample(range(length), length)\n",
    "        class_n = [class_n[i] for i in shuffled_indices]\n",
    "        img_array = [img_array[i] for i in shuffled_indices]\n",
    "        return class_n,img_array\n",
    "            \n",
    "            \n",
    "        "
   ]
  },
  {
   "cell_type": "code",
   "execution_count": 3,
   "id": "af1fbf4a",
   "metadata": {},
   "outputs": [],
   "source": [
    "image_cls=CNN('/Users/Jishnu/Cropped')\n",
    "files=image_cls.list_filenames()\n",
    "class_n,img_array=image_cls.array_hist(files)"
   ]
  },
  {
   "cell_type": "code",
   "execution_count": 4,
   "id": "7786d049",
   "metadata": {},
   "outputs": [],
   "source": [
    "train_data=np.expand_dims(np.array(img_array), -1)"
   ]
  },
  {
   "cell_type": "code",
   "execution_count": 5,
   "id": "5b5fd741",
   "metadata": {},
   "outputs": [],
   "source": [
    "from sklearn import preprocessing \n",
    "label_encoder = preprocessing.LabelEncoder() \n",
    "class_n=label_encoder.fit_transform(class_n) "
   ]
  },
  {
   "cell_type": "markdown",
   "id": "23bc9186-bcf9-4dc7-8e18-d1c09e065b6c",
   "metadata": {},
   "source": [
    "# StudentID-916467530"
   ]
  },
  {
   "cell_type": "code",
   "execution_count": 6,
   "id": "332401cb-e73b-4b43-a96c-830c2ce611a7",
   "metadata": {},
   "outputs": [],
   "source": [
    "batch_size = 16\n",
    "nb_classes =4\n",
    "nb_epochs = 30\n",
    "from tensorflow.keras import models\n",
    "def model(i):\n",
    "    model = models.Sequential()\n",
    "    model.add(layers.Conv2D(8, (i, i), activation='relu', input_shape=(100, 100, 1)))\n",
    "    model.add(layers.MaxPooling2D((2, 2)))\n",
    "    model.add(layers.Flatten())\n",
    "    model.add(layers.Dense(16, activation='relu'))\n",
    "    model.add(layers.Dense(4, activation='softmax'))\n",
    "    model.compile(optimizer='adam',loss='sparse_categorical_crossentropy',metrics=['accuracy'])\n",
    "    HISTORY=model.fit(train_data, class_n, batch_size = batch_size, epochs = nb_epochs, verbose = 1, validation_split=0.2)\n",
    "    plt.plot(HISTORY.history['accuracy'], label='Training accuracy')\n",
    "    plt.plot(HISTORY.history['val_accuracy'], label='Validation accuracy')\n",
    "    plt.xlabel('EPOCHS')\n",
    "    plt.ylabel('TRAINING AND VALIDATION ACCURACIES')\n",
    "    plt.legend()\n",
    "    plt.show()"
   ]
  },
  {
   "cell_type": "code",
   "execution_count": 7,
   "id": "11c3c1d9-e2bf-4af6-bba7-a6294702a9dc",
   "metadata": {},
   "outputs": [
    {
     "name": "stdout",
     "output_type": "stream",
     "text": [
      "Epoch 1/30\n",
      "42/42 [==============================] - 1s 11ms/step - loss: 127.6481 - accuracy: 0.2868 - val_loss: 1.3829 - val_accuracy: 0.3576\n",
      "Epoch 2/30\n",
      "42/42 [==============================] - 0s 9ms/step - loss: 1.3843 - accuracy: 0.3111 - val_loss: 1.3813 - val_accuracy: 0.3576\n",
      "Epoch 3/30\n",
      "42/42 [==============================] - 0s 9ms/step - loss: 1.3829 - accuracy: 0.3111 - val_loss: 1.3802 - val_accuracy: 0.3576\n",
      "Epoch 4/30\n",
      "42/42 [==============================] - 0s 9ms/step - loss: 1.3814 - accuracy: 0.3111 - val_loss: 1.3785 - val_accuracy: 0.3576\n",
      "Epoch 5/30\n",
      "42/42 [==============================] - 0s 9ms/step - loss: 1.3800 - accuracy: 0.3111 - val_loss: 1.3771 - val_accuracy: 0.3576\n",
      "Epoch 6/30\n",
      "42/42 [==============================] - 0s 11ms/step - loss: 1.3788 - accuracy: 0.3111 - val_loss: 1.3758 - val_accuracy: 0.3576\n",
      "Epoch 7/30\n",
      "42/42 [==============================] - 1s 10ms/step - loss: 1.3779 - accuracy: 0.3111 - val_loss: 1.3753 - val_accuracy: 0.3576\n",
      "Epoch 8/30\n",
      "42/42 [==============================] - 0s 10ms/step - loss: 1.3769 - accuracy: 0.3111 - val_loss: 1.3741 - val_accuracy: 0.3576\n",
      "Epoch 9/30\n",
      "42/42 [==============================] - 0s 9ms/step - loss: 1.3762 - accuracy: 0.3111 - val_loss: 1.3729 - val_accuracy: 0.3576\n",
      "Epoch 10/30\n",
      "42/42 [==============================] - 0s 9ms/step - loss: 1.3753 - accuracy: 0.3111 - val_loss: 1.3721 - val_accuracy: 0.3576\n",
      "Epoch 11/30\n",
      "42/42 [==============================] - 0s 9ms/step - loss: 1.3745 - accuracy: 0.3111 - val_loss: 1.3713 - val_accuracy: 0.3576\n",
      "Epoch 12/30\n",
      "42/42 [==============================] - 0s 9ms/step - loss: 1.3740 - accuracy: 0.3111 - val_loss: 1.3707 - val_accuracy: 0.3576\n",
      "Epoch 13/30\n",
      "42/42 [==============================] - 0s 10ms/step - loss: 1.3734 - accuracy: 0.3111 - val_loss: 1.3695 - val_accuracy: 0.3576\n",
      "Epoch 14/30\n",
      "42/42 [==============================] - 0s 9ms/step - loss: 1.3728 - accuracy: 0.3111 - val_loss: 1.3695 - val_accuracy: 0.3576\n",
      "Epoch 15/30\n",
      "42/42 [==============================] - 0s 9ms/step - loss: 1.3723 - accuracy: 0.3111 - val_loss: 1.3692 - val_accuracy: 0.3576\n",
      "Epoch 16/30\n",
      "42/42 [==============================] - 0s 9ms/step - loss: 1.3720 - accuracy: 0.3111 - val_loss: 1.3686 - val_accuracy: 0.3576\n",
      "Epoch 17/30\n",
      "42/42 [==============================] - 1s 13ms/step - loss: 1.3716 - accuracy: 0.3111 - val_loss: 1.3684 - val_accuracy: 0.3576\n",
      "Epoch 18/30\n",
      "42/42 [==============================] - 1s 16ms/step - loss: 1.3714 - accuracy: 0.3111 - val_loss: 1.3681 - val_accuracy: 0.3576\n",
      "Epoch 19/30\n",
      "42/42 [==============================] - 1s 18ms/step - loss: 1.3712 - accuracy: 0.3111 - val_loss: 1.3679 - val_accuracy: 0.3576\n",
      "Epoch 20/30\n",
      "42/42 [==============================] - 1s 18ms/step - loss: 1.3711 - accuracy: 0.3111 - val_loss: 1.3676 - val_accuracy: 0.3576\n",
      "Epoch 21/30\n",
      "42/42 [==============================] - 1s 18ms/step - loss: 1.3709 - accuracy: 0.3111 - val_loss: 1.3674 - val_accuracy: 0.3576\n",
      "Epoch 22/30\n",
      "42/42 [==============================] - 1s 21ms/step - loss: 1.3708 - accuracy: 0.3111 - val_loss: 1.3676 - val_accuracy: 0.3576\n",
      "Epoch 23/30\n",
      "42/42 [==============================] - 1s 24ms/step - loss: 1.3708 - accuracy: 0.3111 - val_loss: 1.3670 - val_accuracy: 0.3576\n",
      "Epoch 24/30\n",
      "42/42 [==============================] - 1s 17ms/step - loss: 1.3706 - accuracy: 0.3111 - val_loss: 1.3668 - val_accuracy: 0.3576\n",
      "Epoch 25/30\n",
      "42/42 [==============================] - 1s 25ms/step - loss: 1.3706 - accuracy: 0.3111 - val_loss: 1.3669 - val_accuracy: 0.3576\n",
      "Epoch 26/30\n",
      "42/42 [==============================] - 1s 22ms/step - loss: 1.3706 - accuracy: 0.3111 - val_loss: 1.3672 - val_accuracy: 0.3576\n",
      "Epoch 27/30\n",
      "42/42 [==============================] - 1s 19ms/step - loss: 1.3705 - accuracy: 0.3111 - val_loss: 1.3666 - val_accuracy: 0.3576\n",
      "Epoch 28/30\n",
      "42/42 [==============================] - 1s 19ms/step - loss: 1.3704 - accuracy: 0.3111 - val_loss: 1.3662 - val_accuracy: 0.3576\n",
      "Epoch 29/30\n",
      "42/42 [==============================] - 1s 16ms/step - loss: 1.3703 - accuracy: 0.3111 - val_loss: 1.3663 - val_accuracy: 0.3576\n",
      "Epoch 30/30\n",
      "42/42 [==============================] - 1s 18ms/step - loss: 1.3703 - accuracy: 0.3111 - val_loss: 1.3660 - val_accuracy: 0.3576\n"
     ]
    },
    {
     "data": {
      "image/png": "[encoded data removed]",
      "text/plain": [
       "<Figure size 640x480 with 1 Axes>"
      ]
     },
     "metadata": {},
     "output_type": "display_data"
    }
   ],
   "source": [
    "model(3)"
   ]
  },
  {
   "cell_type": "code",
   "execution_count": 8,
   "id": "876e66cd-6f40-4ac9-be26-e67045b579fa",
   "metadata": {},
   "outputs": [
    {
     "name": "stdout",
     "output_type": "stream",
     "text": [
      "Epoch 1/30\n",
      "42/42 [==============================] - 1s 25ms/step - loss: 12.6449 - accuracy: 0.2534 - val_loss: 1.3851 - val_accuracy: 0.1879\n",
      "Epoch 2/30\n",
      "42/42 [==============================] - 1s 25ms/step - loss: 1.3846 - accuracy: 0.2716 - val_loss: 1.3838 - val_accuracy: 0.1879\n",
      "Epoch 3/30\n",
      "42/42 [==============================] - 1s 28ms/step - loss: 1.3830 - accuracy: 0.2974 - val_loss: 1.3819 - val_accuracy: 0.3576\n",
      "Epoch 4/30\n",
      "42/42 [==============================] - 1s 26ms/step - loss: 1.3812 - accuracy: 0.3111 - val_loss: 1.3803 - val_accuracy: 0.3576\n",
      "Epoch 5/30\n",
      "42/42 [==============================] - 1s 30ms/step - loss: 1.3798 - accuracy: 0.3111 - val_loss: 1.3788 - val_accuracy: 0.3576\n",
      "Epoch 6/30\n",
      "42/42 [==============================] - 2s 36ms/step - loss: 1.3785 - accuracy: 0.3111 - val_loss: 1.3771 - val_accuracy: 0.3576\n",
      "Epoch 7/30\n",
      "42/42 [==============================] - 1s 27ms/step - loss: 1.3774 - accuracy: 0.3111 - val_loss: 1.3761 - val_accuracy: 0.3576\n",
      "Epoch 8/30\n",
      "42/42 [==============================] - 1s 25ms/step - loss: 1.3764 - accuracy: 0.3111 - val_loss: 1.3746 - val_accuracy: 0.3576\n",
      "Epoch 9/30\n",
      "42/42 [==============================] - 1s 26ms/step - loss: 1.3756 - accuracy: 0.3111 - val_loss: 1.3741 - val_accuracy: 0.3576\n",
      "Epoch 10/30\n",
      "42/42 [==============================] - 1s 29ms/step - loss: 1.3747 - accuracy: 0.3111 - val_loss: 1.3730 - val_accuracy: 0.3576\n",
      "Epoch 11/30\n",
      "42/42 [==============================] - 1s 27ms/step - loss: 1.3739 - accuracy: 0.3111 - val_loss: 1.3717 - val_accuracy: 0.3576\n",
      "Epoch 12/30\n",
      "42/42 [==============================] - 1s 26ms/step - loss: 1.3733 - accuracy: 0.3111 - val_loss: 1.3708 - val_accuracy: 0.3576\n",
      "Epoch 13/30\n",
      "42/42 [==============================] - 1s 23ms/step - loss: 1.3727 - accuracy: 0.3111 - val_loss: 1.3700 - val_accuracy: 0.3576\n",
      "Epoch 14/30\n",
      "42/42 [==============================] - 1s 24ms/step - loss: 1.3724 - accuracy: 0.3111 - val_loss: 1.3694 - val_accuracy: 0.3576\n",
      "Epoch 15/30\n",
      "42/42 [==============================] - 1s 27ms/step - loss: 1.3720 - accuracy: 0.3111 - val_loss: 1.3691 - val_accuracy: 0.3576\n",
      "Epoch 16/30\n",
      "42/42 [==============================] - 1s 27ms/step - loss: 1.3717 - accuracy: 0.3111 - val_loss: 1.3688 - val_accuracy: 0.3576\n",
      "Epoch 17/30\n",
      "42/42 [==============================] - 1s 24ms/step - loss: 1.3716 - accuracy: 0.3111 - val_loss: 1.3683 - val_accuracy: 0.3576\n",
      "Epoch 18/30\n",
      "42/42 [==============================] - 1s 23ms/step - loss: 1.3713 - accuracy: 0.3111 - val_loss: 1.3680 - val_accuracy: 0.3576\n",
      "Epoch 19/30\n",
      "42/42 [==============================] - 1s 23ms/step - loss: 1.3711 - accuracy: 0.3111 - val_loss: 1.3676 - val_accuracy: 0.3576\n",
      "Epoch 20/30\n",
      "42/42 [==============================] - 1s 24ms/step - loss: 1.3709 - accuracy: 0.3111 - val_loss: 1.3677 - val_accuracy: 0.3576\n",
      "Epoch 21/30\n",
      "42/42 [==============================] - 1s 27ms/step - loss: 1.3707 - accuracy: 0.3111 - val_loss: 1.3676 - val_accuracy: 0.3576\n",
      "Epoch 22/30\n",
      "42/42 [==============================] - 1s 26ms/step - loss: 1.3707 - accuracy: 0.3111 - val_loss: 1.3671 - val_accuracy: 0.3576\n",
      "Epoch 23/30\n",
      "42/42 [==============================] - 1s 28ms/step - loss: 1.3706 - accuracy: 0.3111 - val_loss: 1.3679 - val_accuracy: 0.3576\n",
      "Epoch 24/30\n",
      "42/42 [==============================] - 1s 24ms/step - loss: 1.3706 - accuracy: 0.3111 - val_loss: 1.3676 - val_accuracy: 0.3576\n",
      "Epoch 25/30\n",
      "42/42 [==============================] - 1s 23ms/step - loss: 1.3704 - accuracy: 0.3111 - val_loss: 1.3666 - val_accuracy: 0.3576\n",
      "Epoch 26/30\n",
      "42/42 [==============================] - 1s 24ms/step - loss: 1.3703 - accuracy: 0.3111 - val_loss: 1.3664 - val_accuracy: 0.3576\n",
      "Epoch 27/30\n",
      "42/42 [==============================] - 1s 23ms/step - loss: 1.3703 - accuracy: 0.3111 - val_loss: 1.3663 - val_accuracy: 0.3576\n",
      "Epoch 28/30\n",
      "42/42 [==============================] - 1s 24ms/step - loss: 1.3704 - accuracy: 0.3111 - val_loss: 1.3660 - val_accuracy: 0.3576\n",
      "Epoch 29/30\n",
      "42/42 [==============================] - 1s 27ms/step - loss: 1.3702 - accuracy: 0.3111 - val_loss: 1.3661 - val_accuracy: 0.3576\n",
      "Epoch 30/30\n",
      "42/42 [==============================] - 1s 22ms/step - loss: 1.3703 - accuracy: 0.3111 - val_loss: 1.3656 - val_accuracy: 0.3576\n"
     ]
    },
    {
     "data": {
      "image/png": "[encoded data removed]",
      "text/plain": [
       "<Figure size 640x480 with 1 Axes>"
      ]
     },
     "metadata": {},
     "output_type": "display_data"
    }
   ],
   "source": [
    "model(5)"
   ]
  },
  {
   "cell_type": "code",
   "execution_count": 9,
   "id": "57c120a8-6153-4cdd-a9b3-fffb9c60f1c1",
   "metadata": {},
   "outputs": [
    {
     "name": "stdout",
     "output_type": "stream",
     "text": [
      "Epoch 1/30\n",
      "42/42 [==============================] - 2s 36ms/step - loss: 13.2280 - accuracy: 0.2185 - val_loss: 1.3858 - val_accuracy: 0.1879\n",
      "Epoch 2/30\n",
      "42/42 [==============================] - 2s 36ms/step - loss: 1.3847 - accuracy: 0.2974 - val_loss: 1.3834 - val_accuracy: 0.3576\n",
      "Epoch 3/30\n",
      "42/42 [==============================] - 1s 32ms/step - loss: 1.3829 - accuracy: 0.3111 - val_loss: 1.3816 - val_accuracy: 0.3576\n",
      "Epoch 4/30\n",
      "42/42 [==============================] - 1s 36ms/step - loss: 1.3813 - accuracy: 0.3111 - val_loss: 1.3796 - val_accuracy: 0.3576\n",
      "Epoch 5/30\n",
      "42/42 [==============================] - 1s 33ms/step - loss: 1.3798 - accuracy: 0.3111 - val_loss: 1.3776 - val_accuracy: 0.3576\n",
      "Epoch 6/30\n",
      "42/42 [==============================] - 2s 38ms/step - loss: 1.3782 - accuracy: 0.3111 - val_loss: 1.3762 - val_accuracy: 0.3576\n",
      "Epoch 7/30\n",
      "42/42 [==============================] - 2s 40ms/step - loss: 1.3771 - accuracy: 0.3111 - val_loss: 1.3755 - val_accuracy: 0.3576\n",
      "Epoch 8/30\n",
      "42/42 [==============================] - 2s 47ms/step - loss: 1.3759 - accuracy: 0.3111 - val_loss: 1.3742 - val_accuracy: 0.3576\n",
      "Epoch 9/30\n",
      "42/42 [==============================] - 2s 40ms/step - loss: 1.3752 - accuracy: 0.3111 - val_loss: 1.3731 - val_accuracy: 0.3576\n",
      "Epoch 10/30\n",
      "42/42 [==============================] - 2s 39ms/step - loss: 1.3744 - accuracy: 0.3111 - val_loss: 1.3719 - val_accuracy: 0.3576\n",
      "Epoch 11/30\n",
      "42/42 [==============================] - 2s 37ms/step - loss: 1.3739 - accuracy: 0.3111 - val_loss: 1.3713 - val_accuracy: 0.3576\n",
      "Epoch 12/30\n",
      "42/42 [==============================] - 2s 37ms/step - loss: 1.3733 - accuracy: 0.3111 - val_loss: 1.3709 - val_accuracy: 0.3576\n",
      "Epoch 13/30\n",
      "42/42 [==============================] - 1s 34ms/step - loss: 1.3729 - accuracy: 0.3111 - val_loss: 1.3699 - val_accuracy: 0.3576\n",
      "Epoch 14/30\n",
      "42/42 [==============================] - 2s 39ms/step - loss: 1.3724 - accuracy: 0.3111 - val_loss: 1.3703 - val_accuracy: 0.3576\n",
      "Epoch 15/30\n",
      "42/42 [==============================] - 1s 35ms/step - loss: 1.3718 - accuracy: 0.3111 - val_loss: 1.3694 - val_accuracy: 0.3576\n",
      "Epoch 16/30\n",
      "42/42 [==============================] - 1s 34ms/step - loss: 1.3715 - accuracy: 0.3111 - val_loss: 1.3687 - val_accuracy: 0.3576\n",
      "Epoch 17/30\n",
      "42/42 [==============================] - 1s 34ms/step - loss: 1.3714 - accuracy: 0.3111 - val_loss: 1.3688 - val_accuracy: 0.3576\n",
      "Epoch 18/30\n",
      "42/42 [==============================] - 1s 34ms/step - loss: 1.3711 - accuracy: 0.3111 - val_loss: 1.3679 - val_accuracy: 0.3576\n",
      "Epoch 19/30\n",
      "42/42 [==============================] - 2s 40ms/step - loss: 1.3708 - accuracy: 0.3111 - val_loss: 1.3681 - val_accuracy: 0.3576\n",
      "Epoch 20/30\n",
      "42/42 [==============================] - 1s 34ms/step - loss: 1.3708 - accuracy: 0.3111 - val_loss: 1.3679 - val_accuracy: 0.3576\n",
      "Epoch 21/30\n",
      "42/42 [==============================] - 1s 34ms/step - loss: 1.3706 - accuracy: 0.3111 - val_loss: 1.3678 - val_accuracy: 0.3576\n",
      "Epoch 22/30\n",
      "42/42 [==============================] - 2s 36ms/step - loss: 1.3706 - accuracy: 0.3111 - val_loss: 1.3674 - val_accuracy: 0.3576\n",
      "Epoch 23/30\n",
      "42/42 [==============================] - 1s 36ms/step - loss: 1.3705 - accuracy: 0.3111 - val_loss: 1.3678 - val_accuracy: 0.3576\n",
      "Epoch 24/30\n",
      "42/42 [==============================] - 2s 36ms/step - loss: 1.3704 - accuracy: 0.3111 - val_loss: 1.3671 - val_accuracy: 0.3576\n",
      "Epoch 25/30\n",
      "42/42 [==============================] - 2s 38ms/step - loss: 1.3703 - accuracy: 0.3111 - val_loss: 1.3666 - val_accuracy: 0.3576\n",
      "Epoch 26/30\n",
      "42/42 [==============================] - 1s 33ms/step - loss: 1.3702 - accuracy: 0.3111 - val_loss: 1.3662 - val_accuracy: 0.3576\n",
      "Epoch 27/30\n",
      "42/42 [==============================] - 2s 40ms/step - loss: 1.3703 - accuracy: 0.3111 - val_loss: 1.3662 - val_accuracy: 0.3576\n",
      "Epoch 28/30\n",
      "42/42 [==============================] - 1s 34ms/step - loss: 1.3704 - accuracy: 0.3111 - val_loss: 1.3663 - val_accuracy: 0.3576\n",
      "Epoch 29/30\n",
      "42/42 [==============================] - 2s 37ms/step - loss: 1.3702 - accuracy: 0.3111 - val_loss: 1.3665 - val_accuracy: 0.3576\n",
      "Epoch 30/30\n",
      "42/42 [==============================] - 2s 36ms/step - loss: 1.3702 - accuracy: 0.3111 - val_loss: 1.3657 - val_accuracy: 0.3576\n"
     ]
    },
    {
     "data": {
      "image/png": "[encoded data removed]",
      "text/plain": [
       "<Figure size 640x480 with 1 Axes>"
      ]
     },
     "metadata": {},
     "output_type": "display_data"
    }
   ],
   "source": [
    "model(7)"
   ]
  },
  {
   "cell_type": "markdown",
   "id": "9d0b8e38-09fd-4cf8-8150-dae5d084abe0",
   "metadata": {},
   "source": [
    "# Model 2 performs well(5x5), as no overfitting occurs as the number of epochs increases. For Model 1 and model 3 both underfitting and overfitting occurs\n",
    "# Model2 perfroms better than other two models"
   ]
  },
  {
   "cell_type": "code",
   "execution_count": 10,
   "id": "be7d63f1-cf9d-4c5d-8d6b-a968dc77442e",
   "metadata": {},
   "outputs": [],
   "source": [
    "class Association_Rules:\n",
    "    def __init__(self,path):\n",
    "        self.path=path\n",
    "    def data(self):\n",
    "        df = pd.read_csv(self.path)\n",
    "        df = df.fillna('0')\n",
    "        \n",
    "        print(df)\n",
    "        te = TransactionEncoder()\n",
    "        df = te.fit(df.values).transform(df.values)\n",
    "        return df, te\n",
    "    def Ass_rules(self,df,msv,mct):\n",
    "        frequent_itemsets = fpgrowth(df, min_support=msv, use_colnames=True)\n",
    "        associa_rules,shape=association_rules(frequent_itemsets, metric=\"confidence\", min_threshold=mct),association_rules(frequent_itemsets, metric=\"confidence\", min_threshold=mct).shape[0]\n",
    "        return associa_rules, len(associa_rules.index),shape\n",
    "        \n",
    "        \n",
    "        \n",
    "\n",
    "        \n",
    "    "
   ]
  },
  {
   "cell_type": "code",
   "execution_count": 11,
   "id": "57d3e474-2577-4064-9e6c-e354cdf70f23",
   "metadata": {},
   "outputs": [
    {
     "name": "stdout",
     "output_type": "stream",
     "text": [
      "                          0                  1  2  3  4  5  6  7  8  9 10\n",
      "0                   mustard               soda  0  0  0  0  0  0  0  0  0\n",
      "1           root vegetables      sweet spreads  0  0  0  0  0  0  0  0  0\n",
      "2                      soda             spices  0  0  0  0  0  0  0  0  0\n",
      "3                   sausage             yogurt  0  0  0  0  0  0  0  0  0\n",
      "4                   chicken             onions  0  0  0  0  0  0  0  0  0\n",
      "...                     ...                ... .. .. .. .. .. .. .. .. ..\n",
      "7995  fruit/vegetable juice  seasonal products  0  0  0  0  0  0  0  0  0\n",
      "7996                 pastry          chocolate  0  0  0  0  0  0  0  0  0\n",
      "7997             whole milk         rolls/buns  0  0  0  0  0  0  0  0  0\n",
      "7998             whole milk          margarine  0  0  0  0  0  0  0  0  0\n",
      "7999       other vegetables            napkins  0  0  0  0  0  0  0  0  0\n",
      "\n",
      "[8000 rows x 11 columns]\n"
     ]
    }
   ],
   "source": [
    "ar=Association_Rules('/Users/Jishnu/Grocery_Items_55.csv')\n",
    "df,te=ar.data()\n",
    "df=pd.DataFrame(df,columns=te.columns_)\n",
    "df = df.drop('0', axis=1)\n",
    "\n",
    "rules,s,e=ar.Ass_rules(df,0.01,0.1)"
   ]
  },
  {
   "cell_type": "code",
   "execution_count": 12,
   "id": "4de8a71e-b416-4ad9-9e41-2d6370eaf469",
   "metadata": {},
   "outputs": [
    {
     "data": {
      "text/html": [
       "<div>\n",
       "<style scoped>\n",
       "    .dataframe tbody tr th:only-of-type {\n",
       "        vertical-align: middle;\n",
       "    }\n",
       "\n",
       "    .dataframe tbody tr th {\n",
       "        vertical-align: top;\n",
       "    }\n",
       "\n",
       "    .dataframe thead th {\n",
       "        text-align: right;\n",
       "    }\n",
       "</style>\n",
       "<table border=\"1\" class=\"dataframe\">\n",
       "  <thead>\n",
       "    <tr style=\"text-align: right;\">\n",
       "      <th></th>\n",
       "      <th>antecedents</th>\n",
       "      <th>consequents</th>\n",
       "      <th>antecedent support</th>\n",
       "      <th>consequent support</th>\n",
       "      <th>support</th>\n",
       "      <th>confidence</th>\n",
       "      <th>lift</th>\n",
       "      <th>leverage</th>\n",
       "      <th>conviction</th>\n",
       "      <th>zhangs_metric</th>\n",
       "    </tr>\n",
       "  </thead>\n",
       "  <tbody>\n",
       "    <tr>\n",
       "      <th>0</th>\n",
       "      <td>(soda)</td>\n",
       "      <td>(whole milk)</td>\n",
       "      <td>0.096250</td>\n",
       "      <td>0.156125</td>\n",
       "      <td>0.010250</td>\n",
       "      <td>0.106494</td>\n",
       "      <td>0.682104</td>\n",
       "      <td>-0.004777</td>\n",
       "      <td>0.944453</td>\n",
       "      <td>-0.340233</td>\n",
       "    </tr>\n",
       "    <tr>\n",
       "      <th>1</th>\n",
       "      <td>(yogurt)</td>\n",
       "      <td>(whole milk)</td>\n",
       "      <td>0.087250</td>\n",
       "      <td>0.156125</td>\n",
       "      <td>0.010625</td>\n",
       "      <td>0.121777</td>\n",
       "      <td>0.779994</td>\n",
       "      <td>-0.002997</td>\n",
       "      <td>0.960889</td>\n",
       "      <td>-0.236072</td>\n",
       "    </tr>\n",
       "    <tr>\n",
       "      <th>2</th>\n",
       "      <td>(other vegetables)</td>\n",
       "      <td>(whole milk)</td>\n",
       "      <td>0.120875</td>\n",
       "      <td>0.156125</td>\n",
       "      <td>0.014750</td>\n",
       "      <td>0.122027</td>\n",
       "      <td>0.781597</td>\n",
       "      <td>-0.004122</td>\n",
       "      <td>0.961163</td>\n",
       "      <td>-0.241189</td>\n",
       "    </tr>\n",
       "    <tr>\n",
       "      <th>3</th>\n",
       "      <td>(rolls/buns)</td>\n",
       "      <td>(whole milk)</td>\n",
       "      <td>0.110125</td>\n",
       "      <td>0.156125</td>\n",
       "      <td>0.013625</td>\n",
       "      <td>0.123723</td>\n",
       "      <td>0.792461</td>\n",
       "      <td>-0.003568</td>\n",
       "      <td>0.963023</td>\n",
       "      <td>-0.227382</td>\n",
       "    </tr>\n",
       "  </tbody>\n",
       "</table>\n",
       "</div>"
      ],
      "text/plain": [
       "          antecedents   consequents  antecedent support  consequent support  \\\n",
       "0              (soda)  (whole milk)            0.096250            0.156125   \n",
       "1            (yogurt)  (whole milk)            0.087250            0.156125   \n",
       "2  (other vegetables)  (whole milk)            0.120875            0.156125   \n",
       "3        (rolls/buns)  (whole milk)            0.110125            0.156125   \n",
       "\n",
       "    support  confidence      lift  leverage  conviction  zhangs_metric  \n",
       "0  0.010250    0.106494  0.682104 -0.004777    0.944453      -0.340233  \n",
       "1  0.010625    0.121777  0.779994 -0.002997    0.960889      -0.236072  \n",
       "2  0.014750    0.122027  0.781597 -0.004122    0.961163      -0.241189  \n",
       "3  0.013625    0.123723  0.792461 -0.003568    0.963023      -0.227382  "
      ]
     },
     "execution_count": 12,
     "metadata": {},
     "output_type": "execute_result"
    }
   ],
   "source": [
    "rules"
   ]
  },
  {
   "cell_type": "code",
   "execution_count": 13,
   "id": "3b8d0ef1-65fd-4886-8120-b080e706676a",
   "metadata": {},
   "outputs": [
    {
     "name": "stdout",
     "output_type": "stream",
     "text": [
      "number of rules---4\n"
     ]
    }
   ],
   "source": [
    "print(f'number of rules---{e}')"
   ]
  },
  {
   "cell_type": "code",
   "execution_count": 14,
   "id": "23f18371-6eba-45b1-af2d-1f9726666ba7",
   "metadata": {},
   "outputs": [
    {
     "data": {
      "text/html": [
       "<div>\n",
       "<style scoped>\n",
       "    .dataframe tbody tr th:only-of-type {\n",
       "        vertical-align: middle;\n",
       "    }\n",
       "\n",
       "    .dataframe tbody tr th {\n",
       "        vertical-align: top;\n",
       "    }\n",
       "\n",
       "    .dataframe thead th {\n",
       "        text-align: right;\n",
       "    }\n",
       "</style>\n",
       "<table border=\"1\" class=\"dataframe\">\n",
       "  <thead>\n",
       "    <tr style=\"text-align: right;\">\n",
       "      <th></th>\n",
       "      <th>0.001</th>\n",
       "      <th>0.005</th>\n",
       "      <th>0.010</th>\n",
       "      <th>0.050</th>\n",
       "    </tr>\n",
       "  </thead>\n",
       "  <tbody>\n",
       "    <tr>\n",
       "      <th>0.050</th>\n",
       "      <td>1.0</td>\n",
       "      <td>1.0</td>\n",
       "      <td>1.0</td>\n",
       "      <td>1.0</td>\n",
       "    </tr>\n",
       "    <tr>\n",
       "      <th>0.075</th>\n",
       "      <td>1.0</td>\n",
       "      <td>1.0</td>\n",
       "      <td>1.0</td>\n",
       "      <td>1.0</td>\n",
       "    </tr>\n",
       "    <tr>\n",
       "      <th>0.100</th>\n",
       "      <td>1.0</td>\n",
       "      <td>1.0</td>\n",
       "      <td>1.0</td>\n",
       "      <td>1.0</td>\n",
       "    </tr>\n",
       "  </tbody>\n",
       "</table>\n",
       "</div>"
      ],
      "text/plain": [
       "       0.001  0.005  0.010  0.050\n",
       "0.050    1.0    1.0    1.0    1.0\n",
       "0.075    1.0    1.0    1.0    1.0\n",
       "0.100    1.0    1.0    1.0    1.0"
      ]
     },
     "execution_count": 14,
     "metadata": {},
     "output_type": "execute_result"
    }
   ],
   "source": [
    "val=pd.DataFrame(np.ones((3, 4)),columns=[0.001, 0.005, 0.01, 0.05],index=[0.05, 0.075, 0.1], dtype=float)\n",
    "val"
   ]
  },
  {
   "cell_type": "code",
   "execution_count": 15,
   "id": "99d5f561-9003-41c5-98f1-a3f859c371bb",
   "metadata": {},
   "outputs": [
    {
     "name": "stdout",
     "output_type": "stream",
     "text": [
      "msv0.001,mct0.05\n",
      "rulescount---- 542\n",
      "msv0.005,mct0.05\n",
      "rulescount---- 61\n",
      "msv0.01,mct0.05\n",
      "rulescount---- 8\n",
      "msv0.05,mct0.05\n",
      "rulescount---- 0\n",
      "msv0.001,mct0.075\n",
      "rulescount---- 295\n",
      "msv0.005,mct0.075\n",
      "rulescount---- 42\n",
      "msv0.01,mct0.075\n",
      "rulescount---- 6\n",
      "msv0.05,mct0.075\n",
      "rulescount---- 0\n",
      "msv0.001,mct0.1\n",
      "rulescount---- 155\n",
      "msv0.005,mct0.1\n",
      "rulescount---- 18\n",
      "msv0.01,mct0.1\n",
      "rulescount---- 4\n",
      "msv0.05,mct0.1\n",
      "rulescount---- 0\n"
     ]
    }
   ],
   "source": [
    "i=0\n",
    "while i<3:\n",
    "    j=0\n",
    "    while j<4:\n",
    "        mct=list(val.index)[i]\n",
    "        msv=list(val.columns)[j]\n",
    "        print(f'msv{msv},mct{mct}')\n",
    "        rules,s,e=ar.Ass_rules(df,msv,mct)\n",
    "        if msv==0.005:\n",
    "            r=rules\n",
    "        print('rulescount----',s)\n",
    "        val.iloc[i,j]=s\n",
    "        j+=1\n",
    "    i+=1\n",
    "        "
   ]
  },
  {
   "cell_type": "code",
   "execution_count": 16,
   "id": "3dbdc415-f178-4c0c-99a8-12ea6e368f62",
   "metadata": {},
   "outputs": [
    {
     "data": {
      "text/html": [
       "<div>\n",
       "<style scoped>\n",
       "    .dataframe tbody tr th:only-of-type {\n",
       "        vertical-align: middle;\n",
       "    }\n",
       "\n",
       "    .dataframe tbody tr th {\n",
       "        vertical-align: top;\n",
       "    }\n",
       "\n",
       "    .dataframe thead th {\n",
       "        text-align: right;\n",
       "    }\n",
       "</style>\n",
       "<table border=\"1\" class=\"dataframe\">\n",
       "  <thead>\n",
       "    <tr style=\"text-align: right;\">\n",
       "      <th></th>\n",
       "      <th>0.001</th>\n",
       "      <th>0.005</th>\n",
       "      <th>0.010</th>\n",
       "      <th>0.050</th>\n",
       "    </tr>\n",
       "  </thead>\n",
       "  <tbody>\n",
       "    <tr>\n",
       "      <th>0.050</th>\n",
       "      <td>542.0</td>\n",
       "      <td>61.0</td>\n",
       "      <td>8.0</td>\n",
       "      <td>0.0</td>\n",
       "    </tr>\n",
       "    <tr>\n",
       "      <th>0.075</th>\n",
       "      <td>295.0</td>\n",
       "      <td>42.0</td>\n",
       "      <td>6.0</td>\n",
       "      <td>0.0</td>\n",
       "    </tr>\n",
       "    <tr>\n",
       "      <th>0.100</th>\n",
       "      <td>155.0</td>\n",
       "      <td>18.0</td>\n",
       "      <td>4.0</td>\n",
       "      <td>0.0</td>\n",
       "    </tr>\n",
       "  </tbody>\n",
       "</table>\n",
       "</div>"
      ],
      "text/plain": [
       "       0.001  0.005  0.010  0.050\n",
       "0.050  542.0   61.0    8.0    0.0\n",
       "0.075  295.0   42.0    6.0    0.0\n",
       "0.100  155.0   18.0    4.0    0.0"
      ]
     },
     "execution_count": 16,
     "metadata": {},
     "output_type": "execute_result"
    }
   ],
   "source": [
    "val"
   ]
  },
  {
   "cell_type": "code",
   "execution_count": 17,
   "id": "ca3ca5a4-f5ca-41d2-a5f4-5c5a7b6bff4f",
   "metadata": {},
   "outputs": [
    {
     "data": {
      "text/plain": [
       "[Text(0.5, 23.52222222222222, 'msv'), Text(50.722222222222214, 0.5, 'mct')]"
      ]
     },
     "execution_count": 17,
     "metadata": {},
     "output_type": "execute_result"
    },
    {
     "data": {
      "image/png": "[encoded data removed]",
      "text/plain": [
       "<Figure size 640x480 with 2 Axes>"
      ]
     },
     "metadata": {},
     "output_type": "display_data"
    }
   ],
   "source": [
    "ax=sns.heatmap(val, annot=True)\n",
    "ax.set(xlabel=\"msv\", ylabel=\"mct\")"
   ]
  },
  {
   "cell_type": "markdown",
   "id": "83082649-c119-4ba7-803a-004a8ac46e8a",
   "metadata": {},
   "source": [
    "r"
   ]
  },
  {
   "cell_type": "code",
   "execution_count": 19,
   "id": "9be6765c-6d29-4c2d-9103-4b9707255892",
   "metadata": {},
   "outputs": [],
   "source": [
    "r=pd.DataFrame(ar.Ass_rules(df,0.005,0.001)[0])"
   ]
  },
  {
   "cell_type": "code",
   "execution_count": 20,
   "id": "f99b8852-9ced-454d-9703-cfed70e240f6",
   "metadata": {},
   "outputs": [
    {
     "data": {
      "text/plain": [
       "0.16024340770791076"
      ]
     },
     "execution_count": 20,
     "metadata": {},
     "output_type": "execute_result"
    }
   ],
   "source": [
    "max(r['confidence'])"
   ]
  },
  {
   "cell_type": "code",
   "execution_count": 25,
   "id": "4173e2e3-307c-47f5-b345-47789d63635e",
   "metadata": {},
   "outputs": [
    {
     "data": {
      "text/html": [
       "<div>\n",
       "<style scoped>\n",
       "    .dataframe tbody tr th:only-of-type {\n",
       "        vertical-align: middle;\n",
       "    }\n",
       "\n",
       "    .dataframe tbody tr th {\n",
       "        vertical-align: top;\n",
       "    }\n",
       "\n",
       "    .dataframe thead th {\n",
       "        text-align: right;\n",
       "    }\n",
       "</style>\n",
       "<table border=\"1\" class=\"dataframe\">\n",
       "  <thead>\n",
       "    <tr style=\"text-align: right;\">\n",
       "      <th></th>\n",
       "      <th>antecedents</th>\n",
       "      <th>consequents</th>\n",
       "      <th>antecedent support</th>\n",
       "      <th>consequent support</th>\n",
       "      <th>support</th>\n",
       "      <th>confidence</th>\n",
       "      <th>lift</th>\n",
       "      <th>leverage</th>\n",
       "      <th>conviction</th>\n",
       "      <th>zhangs_metric</th>\n",
       "    </tr>\n",
       "  </thead>\n",
       "  <tbody>\n",
       "    <tr>\n",
       "      <th>25</th>\n",
       "      <td>(sausage)</td>\n",
       "      <td>(whole milk)</td>\n",
       "      <td>0.061625</td>\n",
       "      <td>0.156125</td>\n",
       "      <td>0.009875</td>\n",
       "      <td>0.160243</td>\n",
       "      <td>1.026379</td>\n",
       "      <td>0.000254</td>\n",
       "      <td>1.004904</td>\n",
       "      <td>0.027389</td>\n",
       "    </tr>\n",
       "  </tbody>\n",
       "</table>\n",
       "</div>"
      ],
      "text/plain": [
       "   antecedents   consequents  antecedent support  consequent support  \\\n",
       "25   (sausage)  (whole milk)            0.061625            0.156125   \n",
       "\n",
       "     support  confidence      lift  leverage  conviction  zhangs_metric  \n",
       "25  0.009875    0.160243  1.026379  0.000254    1.004904       0.027389  "
      ]
     },
     "execution_count": 25,
     "metadata": {},
     "output_type": "execute_result"
    }
   ],
   "source": [
    "r[r['confidence']==max(r['confidence'])]"
   ]
  },
  {
   "cell_type": "markdown",
   "id": "f9a2b695-d963-4bb8-bbcd-81126a3d7c25",
   "metadata": {},
   "source": [
    "# References"
   ]
  },
  {
   "cell_type": "markdown",
   "id": "535c1073-9de0-4ed4-a5ba-4c908534b6a6",
   "metadata": {},
   "source": [
    "# http://rasbt.github.io/mlxtend/user_guide/frequent_patterns/association_rules/\n",
    "# https://datagen.tech/guides/image-classification/image-classification-using-cnn/\n",
    "# https://keras.io/examples/vision/mnist_convnet/\n",
    "# https://seaborn.pydata.org/generated/seaborn.heatmap.html\n",
    "# https://www.geeksforgeeks.org/image-classifier-using-cnn/"
   ]
  },
  {
   "cell_type": "code",
   "execution_count": null,
   "id": "14fd392b-8b16-4087-bdb2-64156c121950",
   "metadata": {},
   "outputs": [],
   "source": []
  }
 ],
 "metadata": {
  "kernelspec": {
   "display_name": "Python 3 (ipykernel)",
   "language": "python",
   "name": "python3"
  },
  "language_info": {
   "codemirror_mode": {
    "name": "ipython",
    "version": 3
   },
   "file_extension": ".py",
   "mimetype": "text/x-python",
   "name": "python",
   "nbconvert_exporter": "python",
   "pygments_lexer": "ipython3",
   "version": "3.10.12"
  }
 },
 "nbformat": 4,
 "nbformat_minor": 5
}
